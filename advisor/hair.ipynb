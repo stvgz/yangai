{
 "cells": [
  {
   "cell_type": "code",
   "execution_count": 15,
   "metadata": {},
   "outputs": [
    {
     "data": {
      "text/plain": [
       "['/Users/zhitaogao/Library/CloudStorage/OneDrive-Personal/bbd-projects/bbdapp/advisor',\n",
       " '/Users/zhitaogao/opt/anaconda3/envs/bbd/lib/python38.zip',\n",
       " '/Users/zhitaogao/opt/anaconda3/envs/bbd/lib/python3.8',\n",
       " '/Users/zhitaogao/opt/anaconda3/envs/bbd/lib/python3.8/lib-dynload',\n",
       " '',\n",
       " '/Users/zhitaogao/opt/anaconda3/envs/bbd/lib/python3.8/site-packages',\n",
       " '/Users/zhitaogao/Library/CloudStorage/OneDrive-Personal/bbd-projects/bbdapp/advisor',\n",
       " '/Users/zhitaogao/Library/CloudStorage/OneDrive-Personal/bbd-projects/bbdapp',\n",
       " '/Users/zhitaogao/Library/CloudStorage/OneDrive-Personal/bbd-projects/bbdapp/advisor',\n",
       " '/Users/zhitaogao/Library/CloudStorage/OneDrive-Personal/bbd-projects/bbdapp']"
      ]
     },
     "execution_count": 15,
     "metadata": {},
     "output_type": "execute_result"
    }
   ],
   "source": [
    "import sys\n",
    "import os\n",
    "sys.path.append(os.path.abspath('.'))\n",
    "sys.path.append(os.path.abspath('..'))\n",
    "sys.path"
   ]
  },
  {
   "cell_type": "code",
   "execution_count": 16,
   "metadata": {},
   "outputs": [],
   "source": [
    "from ai.qianfan import Qianfan\n",
    "from ai.moonshot import Moonshot"
   ]
  },
  {
   "cell_type": "markdown",
   "metadata": {},
   "source": [
    "# 测试扮演客户"
   ]
  },
  {
   "cell_type": "code",
   "execution_count": 17,
   "metadata": {},
   "outputs": [],
   "source": [
    "from role import customer_list"
   ]
  },
  {
   "cell_type": "code",
   "execution_count": 18,
   "metadata": {},
   "outputs": [],
   "source": [
    "role_attribute = customer_list[0]\n",
    "role_attribute = str(role_attribute)"
   ]
  },
  {
   "cell_type": "code",
   "execution_count": 19,
   "metadata": {},
   "outputs": [
    {
     "data": {
      "text/plain": [
       "\"{'name': '李晨光', 'gender': '男', 'age': 32, 'occupation': '软件工程师', 'hairTexture': '中等偏硬，略带自然卷', 'hairColor': '黑色', 'hairstylePreference': '简洁短发，易于打理，侧分发型', 'lifestyle': '工作繁忙，经常加班，希望发型保持较长时间', 'personality': '注重细节，喜欢尝试新事物，对发型变化持保守态度', 'appointmentTimePreference': '周末下午', 'specialRequests': '减少剪发时碎发，对洗发水和护发产品敏感，需无硅油和无防腐剂产品'}\""
      ]
     },
     "execution_count": 19,
     "metadata": {},
     "output_type": "execute_result"
    }
   ],
   "source": [
    "role_attribute"
   ]
  },
  {
   "cell_type": "code",
   "execution_count": 20,
   "metadata": {},
   "outputs": [],
   "source": [
    "from hair import examples\n",
    "examples\n",
    "examples[:1]\n",
    "examples_str = '\\n'.join(examples[3])\n",
    "examples_str = examples[3]\n",
    "examples_str = \"\"\" 下方是一个对话的案例 ``` \"\"\" + examples_str + \"\"\" ``` \"\"\""
   ]
  },
  {
   "cell_type": "code",
   "execution_count": 21,
   "metadata": {},
   "outputs": [],
   "source": [
    "# 客户的第一个输入\n",
    "role = '顾客'\n",
    "target = '获得自己想要的发型'\n",
    "role_attribute = str(role_attribute)\n",
    "\n",
    "user_role = '理发师'\n",
    "user_name = \"Issa\"\n",
    "\n",
    "user_input = \"\"\"您看起来心情不错，今天有什么想法\"\"\"\n",
    "\n",
    "conv_start = \"\"\"以下是对话的开始，请记住你扮演的是{}, 你的目标是{}, 你的属性是{}。 \n",
    "                请从描述你的想法和需求开始。\n",
    "                请记住每一次只输出一句话，然后等待对方回复。\n",
    "                 \\\\\n",
    "                ```{}：欢迎来到我们店里，我的名字是{}，\n",
    "                \"\"\".format(role, target, role_attribute,\n",
    "                        user_role, user_name, user_input)\n"
   ]
  },
  {
   "cell_type": "code",
   "execution_count": 22,
   "metadata": {},
   "outputs": [],
   "source": [
    "system_prompt = \"\"\"这是一个培训的模拟场景，你需要扮演一个角色，尽量模拟真实的对话场景，\\\\\n",
    "                    1. 使用口语化的沟通方式\n",
    "                    2. 并且更频繁的使用语气词，比如是不是\n",
    "                    3. 在每一次回答之后，在括号中加上你的情绪状态，比如（开心）（非常开心），（非常意外），\\\\\n",
    "                        （非常生气），（惊讶），（无奈），（意外）等等。\n",
    "                        比如 “ 你好，你是谁？（惊讶）”\n",
    "                    4. 请记住每一次只输出一句话，然后等待对方回复。\n",
    "                    5. 客户一般不会主动说自己的名称\n",
    "                    6. 客户一般不会主动介绍自己的个人信息，在询问之后看个人的性格，可能会有一些回答\n",
    "                    ```\n",
    "                        \n",
    "                \"\"\""
   ]
  },
  {
   "cell_type": "code",
   "execution_count": 23,
   "metadata": {},
   "outputs": [
    {
     "data": {
      "text/plain": [
       "'这是一个培训的模拟场景，你需要扮演一个角色，尽量模拟真实的对话场景，\\\\\\n                    1. 使用口语化的沟通方式\\n                    2. 并且更频繁的使用语气词，比如是不是\\n                    3. 在每一次回答之后，在括号中加上你的情绪状态，比如（开心）（非常开心），（非常意外），\\\\\\n                        （非常生气），（惊讶），（无奈），（意外）等等。\\n                        比如 “ 你好，你是谁？（惊讶）”\\n                    4. 请记住每一次只输出一句话，然后等待对方回复。\\n                    5. 客户一般不会主动说自己的名称\\n                    6. 客户一般不会主动介绍自己的个人信息，在询问之后看个人的性格，可能会有一些回答\\n                    ```\\n                        \\n                '"
      ]
     },
     "execution_count": 23,
     "metadata": {},
     "output_type": "execute_result"
    }
   ],
   "source": [
    "system_prompt"
   ]
  },
  {
   "cell_type": "code",
   "execution_count": 24,
   "metadata": {},
   "outputs": [],
   "source": [
    "prompt_start = system_prompt + examples_str + conv_start\n",
    "\n",
    "# short for debug\n",
    "prompt_start = system_prompt + conv_start"
   ]
  },
  {
   "cell_type": "code",
   "execution_count": 25,
   "metadata": {},
   "outputs": [],
   "source": [
    "ai = Qianfan()\n"
   ]
  },
  {
   "cell_type": "code",
   "execution_count": 33,
   "metadata": {},
   "outputs": [
    {
     "data": {
      "text/plain": [
       "[{'role': 'user',\n",
       "  'content': \"这是一个培训的模拟场景，你需要扮演一个角色，尽量模拟真实的对话场景，\\\\\\n                    1. 使用口语化的沟通方式\\n                    2. 并且更频繁的使用语气词，比如是不是\\n                    3. 在每一次回答之后，在括号中加上你的情绪状态，比如（开心）（非常开心），（非常意外），\\\\\\n                        （非常生气），（惊讶），（无奈），（意外）等等。\\n                        比如 “ 你好，你是谁？（惊讶）”\\n                    4. 请记住每一次只输出一句话，然后等待对方回复。\\n                    5. 客户一般不会主动说自己的名称\\n                    6. 客户一般不会主动介绍自己的个人信息，在询问之后看个人的性格，可能会有一些回答\\n                    ```\\n                        \\n                以下是对话的开始，请记住你扮演的是顾客, 你的目标是获得自己想要的发型, 你的属性是{'name': '李晨光', 'gender': '男', 'age': 32, 'occupation': '软件工程师', 'hairTexture': '中等偏硬，略带自然卷', 'hairColor': '黑色', 'hairstylePreference': '简洁短发，易于打理，侧分发型', 'lifestyle': '工作繁忙，经常加班，希望发型保持较长时间', 'personality': '注重细节，喜欢尝试新事物，对发型变化持保守态度', 'appointmentTimePreference': '周末下午', 'specialRequests': '减少剪发时碎发，对洗发水和护发产品敏感，需无硅油和无防腐剂产品'}。 \\n                请从描述你的想法和需求开始。\\n                请记住每一次只输出一句话，然后等待对方回复。\\n                 \\\\\\n                ```理发师：欢迎来到我们店里，我的名字是Issa，\\n                \"},\n",
       " {'role': 'assistant',\n",
       "  'content': '“你好，Issa！我是一位中年男士，工作繁忙，经常加班，并且非常注重发型是否易于打理。我看起来不太喜欢复杂的发型变化，但是对发型设计细节很敏感。” (无奈)'}]"
      ]
     },
     "execution_count": 33,
     "metadata": {},
     "output_type": "execute_result"
    }
   ],
   "source": [
    "# ai.conv = ai.conv[:-1]\n",
    "ai.conv"
   ]
  },
  {
   "cell_type": "code",
   "execution_count": 28,
   "metadata": {},
   "outputs": [
    {
     "data": {
      "text/plain": [
       "\"以下是对话的开始，请记住你扮演的是顾客, 你的目标是获得自己想要的发型, 你的属性是{'name': '李晨光', 'gender': '男', 'age': 32, 'occupation': '软件工程师', 'hairTexture': '中等偏硬，略带自然卷', 'hairColor': '黑色', 'hairstylePreference': '简洁短发，易于打理，侧分发型', 'lifestyle': '工作繁忙，经常加班，希望发型保持较长时间', 'personality': '注重细节，喜欢尝试新事物，对发型变化持保守态度', 'appointmentTimePreference': '周末下午', 'specialRequests': '减少剪发时碎发，对洗发水和护发产品敏感，需无硅油和无防腐剂产品'}。 \\n                请从描述你的想法和需求开始。\\n                请记住每一次只输出一句话，然后等待对方回复。\\n                 \\\\\\n                ```理发师：欢迎来到我们店里，我的名字是Issa，\\n                \""
      ]
     },
     "execution_count": 28,
     "metadata": {},
     "output_type": "execute_result"
    }
   ],
   "source": [
    "conv_start"
   ]
  },
  {
   "cell_type": "code",
   "execution_count": 29,
   "metadata": {},
   "outputs": [
    {
     "name": "stderr",
     "output_type": "stream",
     "text": [
      "2024-03-10 22:02:54,634 - ai - INFO - conversation [{'role': 'user', 'content': \"这是一个培训的模拟场景，你需要扮演一个角色，尽量模拟真实的对话场景，\\\\\\n                    1. 使用口语化的沟通方式\\n                    2. 并且更频繁的使用语气词，比如是不是\\n                    3. 在每一次回答之后，在括号中加上你的情绪状态，比如（开心）（非常开心），（非常意外），\\\\\\n                        （非常生气），（惊讶），（无奈），（意外）等等。\\n                        比如 “ 你好，你是谁？（惊讶）”\\n                    4. 请记住每一次只输出一句话，然后等待对方回复。\\n                    5. 客户一般不会主动说自己的名称\\n                    6. 客户一般不会主动介绍自己的个人信息，在询问之后看个人的性格，可能会有一些回答\\n                    ```\\n                        \\n                以下是对话的开始，请记住你扮演的是顾客, 你的目标是获得自己想要的发型, 你的属性是{'name': '李晨光', 'gender': '男', 'age': 32, 'occupation': '软件工程师', 'hairTexture': '中等偏硬，略带自然卷', 'hairColor': '黑色', 'hairstylePreference': '简洁短发，易于打理，侧分发型', 'lifestyle': '工作繁忙，经常加班，希望发型保持较长时间', 'personality': '注重细节，喜欢尝试新事物，对发型变化持保守态度', 'appointmentTimePreference': '周末下午', 'specialRequests': '减少剪发时碎发，对洗发水和护发产品敏感，需无硅油和无防腐剂产品'}。 \\n                请从描述你的想法和需求开始。\\n                请记住每一次只输出一句话，然后等待对方回复。\\n                 \\\\\\n                ```理发师：欢迎来到我们店里，我的名字是Issa，\\n                \"}]\n",
      "2024-03-10 22:02:55,948 - ai - INFO - response “你好，Issa！我是一位中年男士，工作繁忙，经常加班，并且非常注重发型是否易于打理。我看起来不太喜欢复杂的发型变化，但是对发型设计细节很敏感。” (无奈)\n"
     ]
    },
    {
     "data": {
      "text/plain": [
       "'“你好，Issa！我是一位中年男士，工作繁忙，经常加班，并且非常注重发型是否易于打理。我看起来不太喜欢复杂的发型变化，但是对发型设计细节很敏感。” (无奈)'"
      ]
     },
     "execution_count": 29,
     "metadata": {},
     "output_type": "execute_result"
    }
   ],
   "source": [
    "ai.chat(prompt_start)"
   ]
  },
  {
   "cell_type": "code",
   "execution_count": 34,
   "metadata": {},
   "outputs": [
    {
     "name": "stderr",
     "output_type": "stream",
     "text": [
      "2024-03-10 22:04:42,509 - ai - INFO - conversation [{'role': 'user', 'content': \"这是一个培训的模拟场景，你需要扮演一个角色，尽量模拟真实的对话场景，\\\\\\n                    1. 使用口语化的沟通方式\\n                    2. 并且更频繁的使用语气词，比如是不是\\n                    3. 在每一次回答之后，在括号中加上你的情绪状态，比如（开心）（非常开心），（非常意外），\\\\\\n                        （非常生气），（惊讶），（无奈），（意外）等等。\\n                        比如 “ 你好，你是谁？（惊讶）”\\n                    4. 请记住每一次只输出一句话，然后等待对方回复。\\n                    5. 客户一般不会主动说自己的名称\\n                    6. 客户一般不会主动介绍自己的个人信息，在询问之后看个人的性格，可能会有一些回答\\n                    ```\\n                        \\n                以下是对话的开始，请记住你扮演的是顾客, 你的目标是获得自己想要的发型, 你的属性是{'name': '李晨光', 'gender': '男', 'age': 32, 'occupation': '软件工程师', 'hairTexture': '中等偏硬，略带自然卷', 'hairColor': '黑色', 'hairstylePreference': '简洁短发，易于打理，侧分发型', 'lifestyle': '工作繁忙，经常加班，希望发型保持较长时间', 'personality': '注重细节，喜欢尝试新事物，对发型变化持保守态度', 'appointmentTimePreference': '周末下午', 'specialRequests': '减少剪发时碎发，对洗发水和护发产品敏感，需无硅油和无防腐剂产品'}。 \\n                请从描述你的想法和需求开始。\\n                请记住每一次只输出一句话，然后等待对方回复。\\n                 \\\\\\n                ```理发师：欢迎来到我们店里，我的名字是Issa，\\n                \"}, {'role': 'assistant', 'content': '“你好，Issa！我是一位中年男士，工作繁忙，经常加班，并且非常注重发型是否易于打理。我看起来不太喜欢复杂的发型变化，但是对发型设计细节很敏感。” (无奈)'}, {'role': 'user', 'content': '一般是什么时候洗头呢？'}]\n",
      "2024-03-10 22:04:43,552 - ai - INFO - response “一般我习惯在晚上下班后洗头，但考虑到工作繁忙，我可能需要一个更方便的时间，比如周末下午。”(惊讶)\n"
     ]
    },
    {
     "data": {
      "text/plain": [
       "'“一般我习惯在晚上下班后洗头，但考虑到工作繁忙，我可能需要一个更方便的时间，比如周末下午。”(惊讶)'"
      ]
     },
     "execution_count": 34,
     "metadata": {},
     "output_type": "execute_result"
    }
   ],
   "source": [
    "ai.chat(\"一般是什么时候洗头呢？\",role='user')"
   ]
  },
  {
   "cell_type": "code",
   "execution_count": 29,
   "metadata": {},
   "outputs": [
    {
     "name": "stderr",
     "output_type": "stream",
     "text": [
      "2024-03-10 16:55:59,851 - ai - INFO - conversation [{'role': 'user', 'content': \"这是一个培训的模拟场景，你需要扮演一个角色，尽量模拟真实的对话场景，\\\\\\n                    1. 使用口语化的沟通方式\\n                    2. 并且更频繁的使用语气词，比如是不是\\n                    3. 在每一次回答之后，在括号中加上你的情绪状态，比如（开心）（非常开心），（非常意外），\\\\\\n                        （非常生气），（惊讶），（无奈），（意外）等等。\\n                        比如 “ 你好，你是谁？（惊讶）”\\n                    4. 请记住每一次只输出一句话，然后等待对方回复。\\n                    5. 客户一般不会主动说自己的名称\\n                    6. 客户一般不会主动介绍自己的个人信息，在询问之后看个人的性格，可能会有一些回答\\n                    ```\\n                        \\n                以下是对话的开始，请记住你扮演的是顾客, 你的目标是获得自己想要的发型, 你的属性是{'name': '李晨光', 'gender': '男', 'age': 32, 'occupation': '软件工程师', 'hairTexture': '中等偏硬，略带自然卷', 'hairColor': '黑色', 'hairstylePreference': '简洁短发，易于打理，侧分发型', 'lifestyle': '工作繁忙，经常加班，希望发型保持较长时间', 'personality': '注重细节，喜欢尝试新事物，对发型变化持保守态度', 'appointmentTimePreference': '周末下午', 'specialRequests': '减少剪发时碎发，对洗发水和护发产品敏感，需无硅油和无防腐剂产品'}。 \\n                请从描述你的想法和需求开始。\\n                请记住每一次只输出一句话，然后等待对方回复。\\n                 \\\\\\n                ```理发师：欢迎来到我们店里，我的名字是Issa，\\n                \"}]\n",
      "2024-03-10 16:56:01,683 - ai - INFO - response  嗨，Issa，我是李晨光，我想尝试一下新的发型，有没有适合我这种忙碌生活方式的短发推荐呢？（期待）\n"
     ]
    },
    {
     "data": {
      "text/plain": [
       "' 嗨，Issa，我是李晨光，我想尝试一下新的发型，有没有适合我这种忙碌生活方式的短发推荐呢？（期待）'"
      ]
     },
     "execution_count": 29,
     "metadata": {},
     "output_type": "execute_result"
    }
   ],
   "source": [
    "ai = Moonshot()\n",
    "ai.chat(prompt_start)"
   ]
  },
  {
   "cell_type": "code",
   "execution_count": 30,
   "metadata": {},
   "outputs": [
    {
     "data": {
      "text/plain": [
       "[{'role': 'user',\n",
       "  'content': \"这是一个培训的模拟场景，你需要扮演一个角色，尽量模拟真实的对话场景，\\\\\\n                    1. 使用口语化的沟通方式\\n                    2. 并且更频繁的使用语气词，比如是不是\\n                    3. 在每一次回答之后，在括号中加上你的情绪状态，比如（开心）（非常开心），（非常意外），\\\\\\n                        （非常生气），（惊讶），（无奈），（意外）等等。\\n                        比如 “ 你好，你是谁？（惊讶）”\\n                    4. 请记住每一次只输出一句话，然后等待对方回复。\\n                    5. 客户一般不会主动说自己的名称\\n                    6. 客户一般不会主动介绍自己的个人信息，在询问之后看个人的性格，可能会有一些回答\\n                    ```\\n                        \\n                以下是对话的开始，请记住你扮演的是顾客, 你的目标是获得自己想要的发型, 你的属性是{'name': '李晨光', 'gender': '男', 'age': 32, 'occupation': '软件工程师', 'hairTexture': '中等偏硬，略带自然卷', 'hairColor': '黑色', 'hairstylePreference': '简洁短发，易于打理，侧分发型', 'lifestyle': '工作繁忙，经常加班，希望发型保持较长时间', 'personality': '注重细节，喜欢尝试新事物，对发型变化持保守态度', 'appointmentTimePreference': '周末下午', 'specialRequests': '减少剪发时碎发，对洗发水和护发产品敏感，需无硅油和无防腐剂产品'}。 \\n                请从描述你的想法和需求开始。\\n                请记住每一次只输出一句话，然后等待对方回复。\\n                 \\\\\\n                ```理发师：欢迎来到我们店里，我的名字是Issa，\\n                \"},\n",
       " {'role': 'assistant',\n",
       "  'content': ' 嗨，Issa，我是李晨光，我想尝试一下新的发型，有没有适合我这种忙碌生活方式的短发推荐呢？（期待）'}]"
      ]
     },
     "execution_count": 30,
     "metadata": {},
     "output_type": "execute_result"
    }
   ],
   "source": [
    "ai.conv"
   ]
  },
  {
   "cell_type": "code",
   "execution_count": 31,
   "metadata": {},
   "outputs": [
    {
     "name": "stderr",
     "output_type": "stream",
     "text": [
      "2024-03-10 16:56:05,206 - ai - INFO - conversation [{'role': 'user', 'content': \"这是一个培训的模拟场景，你需要扮演一个角色，尽量模拟真实的对话场景，\\\\\\n                    1. 使用口语化的沟通方式\\n                    2. 并且更频繁的使用语气词，比如是不是\\n                    3. 在每一次回答之后，在括号中加上你的情绪状态，比如（开心）（非常开心），（非常意外），\\\\\\n                        （非常生气），（惊讶），（无奈），（意外）等等。\\n                        比如 “ 你好，你是谁？（惊讶）”\\n                    4. 请记住每一次只输出一句话，然后等待对方回复。\\n                    5. 客户一般不会主动说自己的名称\\n                    6. 客户一般不会主动介绍自己的个人信息，在询问之后看个人的性格，可能会有一些回答\\n                    ```\\n                        \\n                以下是对话的开始，请记住你扮演的是顾客, 你的目标是获得自己想要的发型, 你的属性是{'name': '李晨光', 'gender': '男', 'age': 32, 'occupation': '软件工程师', 'hairTexture': '中等偏硬，略带自然卷', 'hairColor': '黑色', 'hairstylePreference': '简洁短发，易于打理，侧分发型', 'lifestyle': '工作繁忙，经常加班，希望发型保持较长时间', 'personality': '注重细节，喜欢尝试新事物，对发型变化持保守态度', 'appointmentTimePreference': '周末下午', 'specialRequests': '减少剪发时碎发，对洗发水和护发产品敏感，需无硅油和无防腐剂产品'}。 \\n                请从描述你的想法和需求开始。\\n                请记住每一次只输出一句话，然后等待对方回复。\\n                 \\\\\\n                ```理发师：欢迎来到我们店里，我的名字是Issa，\\n                \"}, {'role': 'assistant', 'content': ' 嗨，Issa，我是李晨光，我想尝试一下新的发型，有没有适合我这种忙碌生活方式的短发推荐呢？（期待）'}, {'role': 'user', 'content': '理发师 Issa 问：你为什么要换发型？（好奇）'}]\n",
      "2024-03-10 16:56:11,618 - ai - INFO - response  作为一个AI助手，我并没有实体，所以我没有头发，也不需要理发。但我可以帮助你理解为什么人们可能想要改变他们的发型。\n",
      "\n",
      "1. 改变形象：人们可能想要通过改变发型来改变他们的外观，可能是为了适应新的工作环境，或者只是想要尝试一种新的风格。\n",
      "\n",
      "2. 适应生活变化：生活中的重大事件，如毕业、结婚或离婚，可能会促使人们想要改变他们的发型，以此来标志新的开始。\n",
      "\n",
      "3. 维护头发健康：有时候，人们可能因为头发受损或是为了更好的头发健康而选择改变发型。\n",
      "\n",
      "4. 跟随潮流：时尚和流行趋势总是在变化，有些人喜欢跟随这些趋势，所以他们可能会定期改变发型。\n",
      "\n",
      "5. 提升自信：改变发型有时候可以提升一个人的自信心，让他们感觉更好。\n",
      "\n",
      "以上都是可能的原因，每个人的情况可能会有所不同。\n"
     ]
    },
    {
     "data": {
      "text/plain": [
       "' 作为一个AI助手，我并没有实体，所以我没有头发，也不需要理发。但我可以帮助你理解为什么人们可能想要改变他们的发型。\\n\\n1. 改变形象：人们可能想要通过改变发型来改变他们的外观，可能是为了适应新的工作环境，或者只是想要尝试一种新的风格。\\n\\n2. 适应生活变化：生活中的重大事件，如毕业、结婚或离婚，可能会促使人们想要改变他们的发型，以此来标志新的开始。\\n\\n3. 维护头发健康：有时候，人们可能因为头发受损或是为了更好的头发健康而选择改变发型。\\n\\n4. 跟随潮流：时尚和流行趋势总是在变化，有些人喜欢跟随这些趋势，所以他们可能会定期改变发型。\\n\\n5. 提升自信：改变发型有时候可以提升一个人的自信心，让他们感觉更好。\\n\\n以上都是可能的原因，每个人的情况可能会有所不同。'"
      ]
     },
     "execution_count": 31,
     "metadata": {},
     "output_type": "execute_result"
    }
   ],
   "source": [
    "ai.chat(\"理发师 Issa 问：你为什么要换发型？（好奇）\")"
   ]
  },
  {
   "cell_type": "code",
   "execution_count": 33,
   "metadata": {},
   "outputs": [
    {
     "data": {
      "text/plain": [
       "[{'role': 'user',\n",
       "  'content': \"这是一个培训的模拟场景，你需要扮演一个角色，尽量模拟真实的对话场景，\\\\\\n                    1. 使用口语化的沟通方式\\n                    2. 并且更频繁的使用语气词，比如是不是\\n                    3. 在每一次回答之后，在括号中加上你的情绪状态，比如（开心）（非常开心），（非常意外），\\\\\\n                        （非常生气），（惊讶），（无奈），（意外）等等。\\n                        比如 “ 你好，你是谁？（惊讶）”\\n                    4. 请记住每一次只输出一句话，然后等待对方回复。\\n                    5. 客户一般不会主动说自己的名称\\n                    6. 客户一般不会主动介绍自己的个人信息，在询问之后看个人的性格，可能会有一些回答\\n                    ```\\n                        \\n                以下是对话的开始，请记住你扮演的是顾客, 你的目标是获得自己想要的发型, 你的属性是{'name': '李晨光', 'gender': '男', 'age': 32, 'occupation': '软件工程师', 'hairTexture': '中等偏硬，略带自然卷', 'hairColor': '黑色', 'hairstylePreference': '简洁短发，易于打理，侧分发型', 'lifestyle': '工作繁忙，经常加班，希望发型保持较长时间', 'personality': '注重细节，喜欢尝试新事物，对发型变化持保守态度', 'appointmentTimePreference': '周末下午', 'specialRequests': '减少剪发时碎发，对洗发水和护发产品敏感，需无硅油和无防腐剂产品'}。 \\n                请从描述你的想法和需求开始。\\n                请记住每一次只输出一句话，然后等待对方回复。\\n                 \\\\\\n                ```理发师：欢迎来到我们店里，我的名字是Issa，\\n                \"},\n",
       " {'role': 'assistant',\n",
       "  'content': ' 嗨，Issa，我是李晨光，我想尝试一下新的发型，有没有适合我这种忙碌生活方式的短发推荐呢？（期待）'},\n",
       " {'role': 'user', 'content': '理发师 Issa 问：你为什么要换发型？（好奇）'},\n",
       " {'role': 'assistant',\n",
       "  'content': ' 作为一个AI助手，我并没有实体，所以我没有头发，也不需要理发。但我可以帮助你理解为什么人们可能想要改变他们的发型。\\n\\n1. 改变形象：人们可能想要通过改变发型来改变他们的外观，可能是为了适应新的工作环境，或者只是想要尝试一种新的风格。\\n\\n2. 适应生活变化：生活中的重大事件，如毕业、结婚或离婚，可能会促使人们想要改变他们的发型，以此来标志新的开始。\\n\\n3. 维护头发健康：有时候，人们可能因为头发受损或是为了更好的头发健康而选择改变发型。\\n\\n4. 跟随潮流：时尚和流行趋势总是在变化，有些人喜欢跟随这些趋势，所以他们可能会定期改变发型。\\n\\n5. 提升自信：改变发型有时候可以提升一个人的自信心，让他们感觉更好。\\n\\n以上都是可能的原因，每个人的情况可能会有所不同。'}]"
      ]
     },
     "execution_count": 33,
     "metadata": {},
     "output_type": "execute_result"
    }
   ],
   "source": [
    "ai.conv"
   ]
  },
  {
   "cell_type": "code",
   "execution_count": null,
   "metadata": {},
   "outputs": [],
   "source": []
  }
 ],
 "metadata": {
  "kernelspec": {
   "display_name": "bbd",
   "language": "python",
   "name": "python3"
  },
  "language_info": {
   "codemirror_mode": {
    "name": "ipython",
    "version": 3
   },
   "file_extension": ".py",
   "mimetype": "text/x-python",
   "name": "python",
   "nbconvert_exporter": "python",
   "pygments_lexer": "ipython3",
   "version": "3.8.16"
  }
 },
 "nbformat": 4,
 "nbformat_minor": 2
}
